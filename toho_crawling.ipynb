{
 "cells": [
  {
   "cell_type": "code",
   "execution_count": 135,
   "metadata": {},
   "outputs": [],
   "source": [
    "import requests\n",
    "\n",
    "import json\n",
    "from pathlib import Path\n",
    "from bs4 import BeautifulSoup, Comment\n",
    "from time import sleep\n",
    "import selenium\n",
    "import re\n",
    "from pathlib import Path"
   ]
  },
  {
   "cell_type": "code",
   "execution_count": 125,
   "metadata": {},
   "outputs": [],
   "source": [
    "def get_content(url):\n",
    "    sleep(1)\n",
    "    resp = requests.get(url)\n",
    "\n",
    "    resp.encoding = resp.apparent_encoding\n",
    "    try:\n",
    "        soup = BeautifulSoup(resp.text, \"lxml\")\n",
    "    except:\n",
    "        soup = BeautifulSoup(resp.text, \"html5lib\")\n",
    "\n",
    "    meta = soup.find_all('meta',\n",
    "                     attrs={\"name\":\"robots\"},\n",
    "                     content=lambda x: \"nofollow\" in str(x).lower() or \"noarchive\" in str(x).lower())\n",
    "\n",
    "    s = str(resp.headers.get(\"X-Robots-Tag\"))\n",
    "    if meta != [] and (\"nofollow\" in s) and (\"noarchive\" in s):\n",
    "        raise Exception\n",
    "\n",
    "    for comment in soup(text=lambda x: isinstance(x, Comment)):\n",
    "        comment.extract()\n",
    "\n",
    "    if soup.blockquote is not None:\n",
    "        soup.blockquote.decompose()\n",
    "\n",
    "    return soup"
   ]
  },
  {
   "cell_type": "code",
   "execution_count": 78,
   "metadata": {},
   "outputs": [],
   "source": [
    "base_url = \"http://radical-d.extrem.ne.jp/toho/serihu/\""
   ]
  },
  {
   "cell_type": "code",
   "execution_count": 104,
   "metadata": {},
   "outputs": [],
   "source": [
    "def get_stories():\n",
    "    soup = get_content(base_url + \"serihu.htm\")\n",
    "    return [i.get(\"href\") for i in soup.find(\"td\", class_=\"line\").find_all(\"a\")[1:]]"
   ]
  },
  {
   "cell_type": "code",
   "execution_count": 105,
   "metadata": {},
   "outputs": [
    {
     "data": {
      "text/plain": [
       "['kouma00.htm',\n",
       " 'youyou00.htm',\n",
       " 'suimu00.htm',\n",
       " 'eiya00.htm',\n",
       " 'kaei00.htm',\n",
       " 'fujin00.htm',\n",
       " 'hisou00.htm',\n",
       " 'tirei00.htm',\n",
       " 'seiren00.htm',\n",
       " 'ds00.htm',\n",
       " 'yousei00.htm',\n",
       " 'sinrei00.htm',\n",
       " 'sinki00.htm',\n",
       " 'kishin00.htm',\n",
       " 'da00.htm',\n",
       " 'sinpi00.htm',\n",
       " 'kanju00.htm',\n",
       " 'hyoui00.htm',\n",
       " 'tenkuu00.htm',\n",
       " 'hnd00.htm',\n",
       " 'kikei00.htm']"
      ]
     },
     "execution_count": 105,
     "metadata": {},
     "output_type": "execute_result"
    }
   ],
   "source": [
    "get_stories()"
   ]
  },
  {
   "cell_type": "code",
   "execution_count": 106,
   "metadata": {},
   "outputs": [],
   "source": [
    "def get_charas(url):\n",
    "    soup = get_content(base_url+url)\n",
    "    return [i.get(\"href\") for i in soup.td.find_all(\"a\")]"
   ]
  },
  {
   "cell_type": "code",
   "execution_count": 107,
   "metadata": {},
   "outputs": [
    {
     "data": {
      "text/plain": [
       "['kikei01.htm',\n",
       " 'kikei02.htm',\n",
       " 'kikei03.htm',\n",
       " 'kikei04.htm',\n",
       " 'kikei05.htm',\n",
       " 'kikei06.htm',\n",
       " 'kikei07.htm',\n",
       " 'kikei08.htm',\n",
       " 'kikei09.htm']"
      ]
     },
     "execution_count": 107,
     "metadata": {},
     "output_type": "execute_result"
    }
   ],
   "source": [
    "get_charas(\"kikei00.htm\")"
   ]
  },
  {
   "cell_type": "code",
   "execution_count": 122,
   "metadata": {},
   "outputs": [],
   "source": [
    "def get_serif(url):\n",
    "    soup = get_content(base_url+url)\n",
    "    serif = []\n",
    "    for i in soup.find_all(\"pre\"):\n",
    "        serif.extend([re.sub(\"\\u3000|\\n\", \" \",  j.text).replace(\"：\", \", \") for j in i.find_all(\"font\")])\n",
    "    return serif"
   ]
  },
  {
   "cell_type": "code",
   "execution_count": 123,
   "metadata": {},
   "outputs": [
    {
     "data": {
      "text/plain": [
       "['霊夢, 動物霊だらけね。     でもこんなところで手こずっている場合じゃないわ。',\n",
       " '瓔花, そこのお前！     こんなところで暴れるから積み石がみんな崩れちゃったよ。',\n",
       " '霊夢, 積み石？ そんなの邪魔だから崩したのよ。',\n",
       " '瓔花, 酷い。子供達が頑張って積んだのに……。     お前なんて石に当たって死んじまえ！',\n",
       " '瓔花, ぐぐぐ……強い。',\n",
       " '霊夢, 目的地はあの地獄よ。こんなあの世の入り口で手こずる訳にはいかないわ。',\n",
       " '瓔花, おや？ 地獄に行くのね。     あんたなんか地獄に行くのがお似合いだもんね。',\n",
       " '霊夢, どうとでも言いな。',\n",
       " '霊夢, いつになったら向こう岸に着くのかな。',\n",
       " '潤美, 三途の河（こんなところ）に生身の人間とは、凶暴な魚に引きずり込まれたいのか？',\n",
       " '霊夢, その角は……鬼？',\n",
       " '潤美, まあそんなようなもんだ。     今なら安全に送り返してやっても良いんだが……。',\n",
       " '霊夢, 結構よ。魚なんか、その場で捌いてやるから。',\n",
       " '潤美, そうか、なら丁度良い。遠慮無く愛しの古代魚達の餌にしてやろう。',\n",
       " '潤美, 道に迷ったわけではないのね。',\n",
       " '霊夢, 私の目的地は地獄なの。その為に河を渡っているだけよ。',\n",
       " '潤美, 生きたまま地獄に行くとは。想像するだけで身震いがするよ。',\n",
       " '霊夢, おや？ あんた、てっきり地獄の鬼かと思ったわ。',\n",
       " '久侘歌, 閻魔様から話は聞いています。容赦無く、貴方を試しなさいってね！',\n",
       " '久侘歌, 地獄へ行こうとしているだけありますね。中々の腕前でございます。',\n",
       " '霊夢, あんたは一体……？',\n",
       " '久侘歌, 私は、久侘歌（くたか）。地獄の関所を見張っています。',\n",
       " '霊夢, なるほど、地獄の門番ね。じゃあ話は簡単だわ。     私はその地獄に行きたいのよ。通してくれる？',\n",
       " '久侘歌, ふっふっふ。閻魔様は地獄に通しても良いと言っていましたが、      私はそんな残酷なことは好まないので……ここで大人しく帰って頂きたいと思います！',\n",
       " '久侘歌, お、お見事です。そこまでの覚悟があるのなら、もう止めません。      地獄の業火で焼かれようと、針のむしろに叩き付けられようとも、私は貴方のことを忘れます。鳥頭ですから。',\n",
       " '霊夢, 貴方、もしかして正体はニワトリなんじゃ……。',\n",
       " '久侘歌, そうですよ。よく判りましたね。',\n",
       " '霊夢, いやまあ、見た目で何となくね。',\n",
       " '久侘歌, そうそう、思い出しました。貴方に一つ大切な忠告がありました。      閻魔様曰く、貴方に憑依している動物霊を信用しない方が良いそうです。それでは地獄をお楽しみ下さい。']"
      ]
     },
     "execution_count": 123,
     "metadata": {},
     "output_type": "execute_result"
    }
   ],
   "source": [
    "get_serif(\"kikei01.htm\")"
   ]
  },
  {
   "cell_type": "code",
   "execution_count": 128,
   "metadata": {},
   "outputs": [
    {
     "name": "stdout",
     "output_type": "stream",
     "text": [
      "kouma00.htm\n",
      "youyou00.htm\n",
      "suimu00.htm\n",
      "eiya00.htm\n",
      "kaei00.htm\n",
      "fujin00.htm\n",
      "hisou00.htm\n",
      "tirei00.htm\n",
      "seiren00.htm\n",
      "ds00.htm\n",
      "yousei00.htm\n",
      "sinrei00.htm\n",
      "sinki00.htm\n",
      "kishin00.htm\n",
      "da00.htm\n",
      "sinpi00.htm\n",
      "kanju00.htm\n",
      "hyoui00.htm\n",
      "tenkuu00.htm\n",
      "hnd00.htm\n",
      "kikei00.htm\n"
     ]
    }
   ],
   "source": [
    "s_all = []\n",
    "for s in get_stories():\n",
    "    print(s)\n",
    "    for c in get_charas(s):\n",
    "        s_all.extend(get_serif(c))"
   ]
  },
  {
   "cell_type": "code",
   "execution_count": 130,
   "metadata": {},
   "outputs": [
    {
     "data": {
      "text/plain": [
       "7923"
      ]
     },
     "execution_count": 130,
     "metadata": {},
     "output_type": "execute_result"
    }
   ],
   "source": [
    "len(s_all)"
   ]
  },
  {
   "cell_type": "code",
   "execution_count": 142,
   "metadata": {},
   "outputs": [],
   "source": [
    "reimu = [s.split(\",\")[1] for s in s_all if (s.split(\",\")[0] == \"霊夢\")]"
   ]
  },
  {
   "cell_type": "code",
   "execution_count": 143,
   "metadata": {},
   "outputs": [
    {
     "data": {
      "text/plain": [
       "31755"
      ]
     },
     "execution_count": 143,
     "metadata": {},
     "output_type": "execute_result"
    }
   ],
   "source": [
    "Path(\"reimu.csv\").write_text(\"\\n\".join(reimu))"
   ]
  },
  {
   "cell_type": "code",
   "execution_count": 144,
   "metadata": {},
   "outputs": [],
   "source": [
    "import pandas as pd"
   ]
  },
  {
   "cell_type": "code",
   "execution_count": 145,
   "metadata": {},
   "outputs": [
    {
     "data": {
      "text/html": [
       "<div>\n",
       "<style scoped>\n",
       "    .dataframe tbody tr th:only-of-type {\n",
       "        vertical-align: middle;\n",
       "    }\n",
       "\n",
       "    .dataframe tbody tr th {\n",
       "        vertical-align: top;\n",
       "    }\n",
       "\n",
       "    .dataframe thead th {\n",
       "        text-align: right;\n",
       "    }\n",
       "</style>\n",
       "<table border=\"1\" class=\"dataframe\">\n",
       "  <thead>\n",
       "    <tr style=\"text-align: right;\">\n",
       "      <th></th>\n",
       "      <th>0</th>\n",
       "    </tr>\n",
       "  </thead>\n",
       "  <tbody>\n",
       "    <tr>\n",
       "      <th>0</th>\n",
       "      <td>気持ちいいわね。毎回、昼間に出発して悪霊が少ないから、夜に出てみたんだけど……どこに行って...</td>\n",
       "    </tr>\n",
       "    <tr>\n",
       "      <th>1</th>\n",
       "      <td>って、あんた誰？</td>\n",
       "    </tr>\n",
       "    <tr>\n",
       "      <th>2</th>\n",
       "      <td>人は暗いところでは物が良く見えないのよ。</td>\n",
       "    </tr>\n",
       "    <tr>\n",
       "      <th>3</th>\n",
       "      <td>それは取って食べたりしてもいいのよ。</td>\n",
       "    </tr>\n",
       "    <tr>\n",
       "      <th>4</th>\n",
       "      <td>で、邪魔なんですけど。</td>\n",
       "    </tr>\n",
       "  </tbody>\n",
       "</table>\n",
       "</div>"
      ],
      "text/plain": [
       "                                                   0\n",
       "0   気持ちいいわね。毎回、昼間に出発して悪霊が少ないから、夜に出てみたんだけど……どこに行って...\n",
       "1                                           って、あんた誰？\n",
       "2                               人は暗いところでは物が良く見えないのよ。\n",
       "3                                 それは取って食べたりしてもいいのよ。\n",
       "4                                        で、邪魔なんですけど。"
      ]
     },
     "execution_count": 145,
     "metadata": {},
     "output_type": "execute_result"
    }
   ],
   "source": [
    "pd.read_csv(\"reimu.csv\", header=None).head()"
   ]
  },
  {
   "cell_type": "code",
   "execution_count": 147,
   "metadata": {},
   "outputs": [
    {
     "data": {
      "text/plain": [
       "294216"
      ]
     },
     "execution_count": 147,
     "metadata": {},
     "output_type": "execute_result"
    }
   ],
   "source": [
    "Path(\"all.csv\").write_text(\"\\n\".join(s_all))"
   ]
  },
  {
   "cell_type": "code",
   "execution_count": 148,
   "metadata": {},
   "outputs": [
    {
     "data": {
      "text/html": [
       "<div>\n",
       "<style scoped>\n",
       "    .dataframe tbody tr th:only-of-type {\n",
       "        vertical-align: middle;\n",
       "    }\n",
       "\n",
       "    .dataframe tbody tr th {\n",
       "        vertical-align: top;\n",
       "    }\n",
       "\n",
       "    .dataframe thead th {\n",
       "        text-align: right;\n",
       "    }\n",
       "</style>\n",
       "<table border=\"1\" class=\"dataframe\">\n",
       "  <thead>\n",
       "    <tr style=\"text-align: right;\">\n",
       "      <th></th>\n",
       "      <th>0</th>\n",
       "      <th>1</th>\n",
       "    </tr>\n",
       "  </thead>\n",
       "  <tbody>\n",
       "    <tr>\n",
       "      <th>0</th>\n",
       "      <td>霊夢</td>\n",
       "      <td>気持ちいいわね。毎回、昼間に出発して悪霊が少ないから、夜に出てみたんだけど……どこに行って...</td>\n",
       "    </tr>\n",
       "    <tr>\n",
       "      <th>1</th>\n",
       "      <td>ルーミア</td>\n",
       "      <td>そうなのよね〜。お化けも出るし、たまんないわ。</td>\n",
       "    </tr>\n",
       "    <tr>\n",
       "      <th>2</th>\n",
       "      <td>霊夢</td>\n",
       "      <td>って、あんた誰？</td>\n",
       "    </tr>\n",
       "    <tr>\n",
       "      <th>3</th>\n",
       "      <td>ルーミア</td>\n",
       "      <td>さっき会ったじゃない。あんた、もしかして鳥目？</td>\n",
       "    </tr>\n",
       "    <tr>\n",
       "      <th>4</th>\n",
       "      <td>霊夢</td>\n",
       "      <td>人は暗いところでは物が良く見えないのよ。</td>\n",
       "    </tr>\n",
       "  </tbody>\n",
       "</table>\n",
       "</div>"
      ],
      "text/plain": [
       "      0                                                  1\n",
       "0    霊夢   気持ちいいわね。毎回、昼間に出発して悪霊が少ないから、夜に出てみたんだけど……どこに行って...\n",
       "1  ルーミア                            そうなのよね〜。お化けも出るし、たまんないわ。\n",
       "2    霊夢                                           って、あんた誰？\n",
       "3  ルーミア                            さっき会ったじゃない。あんた、もしかして鳥目？\n",
       "4    霊夢                               人は暗いところでは物が良く見えないのよ。"
      ]
     },
     "execution_count": 148,
     "metadata": {},
     "output_type": "execute_result"
    }
   ],
   "source": [
    "pd.read_csv(\"all.csv\", header=None).head()"
   ]
  },
  {
   "cell_type": "code",
   "execution_count": 150,
   "metadata": {},
   "outputs": [],
   "source": [
    "marisa = [s.split(\",\")[1] for s in s_all if (s.split(\",\")[0] == \"魔理沙\")]"
   ]
  },
  {
   "cell_type": "code",
   "execution_count": 152,
   "metadata": {},
   "outputs": [
    {
     "data": {
      "text/plain": [
       "30901"
      ]
     },
     "execution_count": 152,
     "metadata": {},
     "output_type": "execute_result"
    }
   ],
   "source": [
    "Path(\"marisa.csv\").write_text(\"\\n\".join(marisa))"
   ]
  },
  {
   "cell_type": "code",
   "execution_count": 153,
   "metadata": {},
   "outputs": [
    {
     "data": {
      "text/plain": [
       "1103"
      ]
     },
     "execution_count": 153,
     "metadata": {},
     "output_type": "execute_result"
    }
   ],
   "source": [
    "len(marisa)"
   ]
  },
  {
   "cell_type": "code",
   "execution_count": 154,
   "metadata": {},
   "outputs": [
    {
     "data": {
      "text/plain": [
       "1128"
      ]
     },
     "execution_count": 154,
     "metadata": {},
     "output_type": "execute_result"
    }
   ],
   "source": [
    "len(reimu)"
   ]
  },
  {
   "cell_type": "code",
   "execution_count": null,
   "metadata": {},
   "outputs": [],
   "source": []
  }
 ],
 "metadata": {
  "kernelspec": {
   "display_name": "Python 3",
   "language": "python",
   "name": "python3"
  },
  "language_info": {
   "codemirror_mode": {
    "name": "ipython",
    "version": 3
   },
   "file_extension": ".py",
   "mimetype": "text/x-python",
   "name": "python",
   "nbconvert_exporter": "python",
   "pygments_lexer": "ipython3",
   "version": "3.7.2"
  }
 },
 "nbformat": 4,
 "nbformat_minor": 2
}
